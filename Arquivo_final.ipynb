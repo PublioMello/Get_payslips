{
 "cells": [
  {
   "cell_type": "markdown",
   "metadata": {},
   "source": [
    "This Python program automatically extracts payment information (date of payment, gross pay, taxes, and net pay) from several PDF files stored in a specified directory. In order to extract the pertinent data, it first searches the directory for PDFs. Then, it parses the PDF contents for predetermined patterns. Next, the extracted data is compared with payment_info.xlsx, an Excel spreadsheet. The software avoids adding duplicate entries if the combination of the payment date and gross pay already exists in the spreadsheet; if not, it adds the new information to the spreadsheet. This procedure makes sure that, depending on payment information, the Excel file retains unique entries. As the program runs, it gives users feedback on how each PDF file is processed and informs them of any data additions or skips brought about by duplication avoidance.\n"
   ]
  },
  {
   "cell_type": "code",
   "execution_count": 1,
   "metadata": {},
   "outputs": [],
   "source": [
    "import pandas as pd\n",
    "import PyPDF2 as pyf\n",
    "import pathlib\n",
    "from pathlib import *"
   ]
  },
  {
   "cell_type": "code",
   "execution_count": 2,
   "metadata": {},
   "outputs": [
    {
     "name": "stdout",
     "output_type": "stream",
     "text": [
      "c:\\Users\\User\\Documents\\GitHub\\Get_payslips\n",
      "['.git', '.gitattributes', 'Arquivo_final.ipynb', 'Pegar_payslips.ipynb']\n",
      "\n",
      " \n",
      " Código finalizado\n"
     ]
    }
   ],
   "source": [
    "#Pegar o caminho\n",
    "path_payslip = pathlib.Path.cwd()\n",
    "print(path_payslip)\n",
    "#descobre os arquivos\n",
    "payslip_files = path_payslip.iterdir()\n",
    "#cria uma lista com os arquivos\n",
    "files_list = [file.name for file in payslip_files]\n",
    "print(files_list)\n",
    "\n",
    "#for para rodar arquivos\n",
    "for file in files_list:\n",
    "    if 'Payslip' in file:\n",
    "        #read the archive\n",
    "        reader_file = pyf.PdfReader(file)\n",
    "        extracted_reader = reader_file.pages[0].extract_text()\n",
    "        #pegar a primeira posicao\n",
    "        posicao_inicial = extracted_reader.find('349W\\n')\n",
    "        #substituir os pontos por virugula\n",
    "        extracted_reader = extracted_reader.replace('.',',')\n",
    "\n",
    "        # pegar as posicções iniciais e finais\n",
    "        inicial_data = extracted_reader.find('/', posicao_inicial) -2\n",
    "        final_data = inicial_data + 10\n",
    "        inicial_gross_pay = extracted_reader.find(',',final_data)-3\n",
    "        final_gross_pay = extracted_reader.find(',',inicial_gross_pay)+3\n",
    "        inicial_taxes = final_gross_pay + 1\n",
    "        final_taxes = extracted_reader.find(',',inicial_taxes)+3\n",
    "        inicial_net_pay = final_taxes + 1\n",
    "        final_net_pay = extracted_reader.find(',',inicial_net_pay)+3\n",
    "\n",
    "        #pegar os valores\n",
    "        data_pagamento = extracted_reader[inicial_data:final_data]\n",
    "        Gross_pay = extracted_reader[inicial_gross_pay:final_gross_pay]\n",
    "        taxes = extracted_reader[inicial_taxes:final_taxes]\n",
    "        net_pay = extracted_reader[inicial_net_pay:final_net_pay]\n",
    "        #print(f'The payment data is {data_pagamento}')\n",
    "        #print(f'The Gross pay is {Gross_pay}')\n",
    "        #print(f'The taxes are {taxes}')\n",
    "        #print(f'The net pay is {net_pay}')\n",
    "        \n",
    "        # Nova data a adicionar\n",
    "        new_data = {\n",
    "            'Payment Date': data_pagamento,\n",
    "            'Gross Pay': Gross_pay,\n",
    "            'Taxes': taxes,\n",
    "            'Net Pay': net_pay\n",
    "        }\n",
    "\n",
    "        # o caminho do arquivo\n",
    "        excel_path = Path('payment_info.xlsx')\n",
    "\n",
    "        # Descobre se o arquivo ja existe\n",
    "        if excel_path.exists():\n",
    "            # Abre o arquivo caso exista\n",
    "            existing_df = pd.read_excel(excel_path)\n",
    "            # Verificar se a data e o grosspay estao juntos na minha linha, se sim, nao adiciona\n",
    "            row_exists = existing_df[\n",
    "                    (existing_df['Payment Date'] == data_pagamento) & \n",
    "                    (existing_df['Gross Pay'] == Gross_pay)\n",
    "                ].any(axis=None)\n",
    "           #verifica se existe o valor na planilha\n",
    "            if row_exists:\n",
    "                print(\"Payslip ja adicionado\")\n",
    "            else:\n",
    "                # Adiciona o valor na planilha\n",
    "                updated_df = existing_df.append(new_data, ignore_index=True)\n",
    "                # Save the updated DataFrame back to the Excel file\n",
    "                updated_df.to_excel(excel_path, index=False)\n",
    "                print(\"Nova data adicionada\")\n",
    "        else:\n",
    "            # Create a new DataFrame if the file does not exist\n",
    "            updated_df = pd.DataFrame([new_data])\n",
    "            # Save the updated DataFrame back to the Excel file\n",
    "            updated_df.to_excel(excel_path, index=False)\n",
    "            print(\"Nova planilha adicionada e valor adicionado\")\n",
    "\n",
    "             \n",
    "print(\"\\n \\n Código finalizado\")"
   ]
  },
  {
   "cell_type": "markdown",
   "metadata": {},
   "source": [
    "I won't include the actual files due to containing personal information, but I'll provide the Excel file"
   ]
  }
 ],
 "metadata": {
  "kernelspec": {
   "display_name": "base",
   "language": "python",
   "name": "python3"
  },
  "language_info": {
   "codemirror_mode": {
    "name": "ipython",
    "version": 3
   },
   "file_extension": ".py",
   "mimetype": "text/x-python",
   "name": "python",
   "nbconvert_exporter": "python",
   "pygments_lexer": "ipython3",
   "version": "3.9.13"
  }
 },
 "nbformat": 4,
 "nbformat_minor": 2
}
